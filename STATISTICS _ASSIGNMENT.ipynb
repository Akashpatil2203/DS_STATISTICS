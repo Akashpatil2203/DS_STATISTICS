{
 "cells": [
  {
   "cell_type": "code",
   "execution_count": null,
   "id": "dd0cf1b5",
   "metadata": {
    "id": "dd0cf1b5"
   },
   "outputs": [],
   "source": []
  },
  {
   "cell_type": "markdown",
   "id": "07c8c0b2",
   "metadata": {
    "id": "07c8c0b2"
   },
   "source": [
    "\n",
    "### 1. Find the Cartesian Product of the below given sets in the below cell. (In Python Code)\n",
    "\n",
    "A = set(['a','b','c'])\n",
    "\n",
    "S = {1,2,3}\n"
   ]
  },
  {
   "cell_type": "code",
   "execution_count": 1,
   "id": "8b2078fa",
   "metadata": {
    "id": "8b2078fa"
   },
   "outputs": [
    {
     "name": "stdout",
     "output_type": "stream",
     "text": [
      "[('c', 1), ('c', 2), ('c', 3), ('b', 1), ('b', 2), ('b', 3), ('a', 1), ('a', 2), ('a', 3)]\n"
     ]
    }
   ],
   "source": [
    "from itertools import product\n",
    "\n",
    "A = set(['a', 'b', 'c'])\n",
    "S = {1, 2, 3}\n",
    "\n",
    "cartesian_product = list(product(A, S))\n",
    "print(cartesian_product)"
   ]
  },
  {
   "cell_type": "markdown",
   "id": "3d43b9ee",
   "metadata": {
    "id": "3d43b9ee"
   },
   "source": [
    "### 2. Find all the possible permutations and number of permutations of A\n",
    "\n",
    "A = {'Red','Green','Blue'}\n"
   ]
  },
  {
   "cell_type": "code",
   "execution_count": 2,
   "id": "52c18588",
   "metadata": {
    "id": "52c18588"
   },
   "outputs": [
    {
     "name": "stdout",
     "output_type": "stream",
     "text": [
      "All Permutations:\n",
      "('Blue', 'Red', 'Green')\n",
      "('Blue', 'Green', 'Red')\n",
      "('Red', 'Blue', 'Green')\n",
      "('Red', 'Green', 'Blue')\n",
      "('Green', 'Blue', 'Red')\n",
      "('Green', 'Red', 'Blue')\n",
      "\n",
      "Number of Permutations: 6\n"
     ]
    }
   ],
   "source": [
    "from itertools import permutations\n",
    "from math import factorial\n",
    "\n",
    "A = {'Red', 'Green', 'Blue'}\n",
    "\n",
    "# Find all permutations\n",
    "all_permutations = list(permutations(A))\n",
    "\n",
    "# Print all permutations\n",
    "print(\"All Permutations:\")\n",
    "for perm in all_permutations:\n",
    "    print(perm)\n",
    "\n",
    "# Calculate the number of permutations\n",
    "num_permutations = factorial(len(A))\n",
    "\n",
    "# Print the number of permutations\n",
    "print(\"\\nNumber of Permutations:\", num_permutations)"
   ]
  },
  {
   "cell_type": "code",
   "execution_count": null,
   "id": "51509b5e",
   "metadata": {
    "id": "51509b5e"
   },
   "outputs": [],
   "source": []
  },
  {
   "cell_type": "markdown",
   "id": "637ffa24",
   "metadata": {
    "id": "637ffa24"
   },
   "source": [
    "### 3. Research Question on Hypothesis Testing\n",
    "\n",
    "In previous years, 52% of parents believed that electronics and social media was the cause of their teenager’s lack of sleep. Do more parents today believe that their teenager’s lack of sleep is caused due to electronics and social media?\n",
    "\n",
    "**Population**: Parents with a teenager (age 13-18)  \n",
    "**Parameter of Interest**: p  \n",
    "\n",
    "**Null Hypothesis:** p = 0.52  \n",
    "**Alternative Hypthosis:** p > 0.52 (note that this is a one-sided test)\n",
    "\n",
    "**Data**: 1018 people were surveyed. 56% of those who were surveyed believe that their teenager’s lack of sleep is caused due to electronics and social media."
   ]
  },
  {
   "cell_type": "markdown",
   "id": "4786f83f",
   "metadata": {
    "id": "4786f83f"
   },
   "source": [
    "### Hint: Use  `proportions_ztest()` from `statsmodels`\n",
    "\n",
    "Note the argument `alternative=\"larger\"` indicating a one-sided test. The function returns two values - the z-statistic and the corresponding p-value."
   ]
  },
  {
   "cell_type": "code",
   "execution_count": 5,
   "id": "475fe79a",
   "metadata": {
    "id": "475fe79a"
   },
   "outputs": [],
   "source": [
    "import statsmodels.api as sm"
   ]
  },
  {
   "cell_type": "code",
   "execution_count": 6,
   "id": "cf855c02",
   "metadata": {},
   "outputs": [
    {
     "data": {
      "text/plain": [
       "0.05"
      ]
     },
     "execution_count": 6,
     "metadata": {},
     "output_type": "execute_result"
    }
   ],
   "source": [
    "#Signficance =5%=0.05\n",
    "5/100"
   ]
  },
  {
   "cell_type": "code",
   "execution_count": 7,
   "id": "eb86e364",
   "metadata": {},
   "outputs": [],
   "source": [
    "n=1018\n",
    "pnull=.52\n",
    "phat=.56"
   ]
  },
  {
   "cell_type": "markdown",
   "id": "e64e5437",
   "metadata": {
    "id": "e64e5437"
   },
   "source": [
    "### What is your Conclusion of the hypothesis test\n"
   ]
  },
  {
   "cell_type": "code",
   "execution_count": 8,
   "id": "4da83967",
   "metadata": {
    "id": "4da83967"
   },
   "outputs": [
    {
     "data": {
      "text/plain": [
       "(2.571067795759113, 0.005069273865860533)"
      ]
     },
     "execution_count": 8,
     "metadata": {},
     "output_type": "execute_result"
    }
   ],
   "source": [
    "sm.stats.proportions_ztest(phat*n,n,pnull,alternative='larger')"
   ]
  },
  {
   "cell_type": "markdown",
   "id": "4503f17c",
   "metadata": {
    "id": "4503f17c"
   },
   "source": [
    "### 4. Calculate the set difference between the 2 sets (set1 - multipes of 3 upto a range of 31 and set2 - multiples of upto a range of 31)"
   ]
  },
  {
   "cell_type": "code",
   "execution_count": 9,
   "id": "d2760c77",
   "metadata": {
    "id": "d2760c77"
   },
   "outputs": [
    {
     "name": "stdout",
     "output_type": "stream",
     "text": [
      "Set1: {3, 6, 9, 12, 15, 18, 21, 24, 27, 30}\n",
      "Set2: {1, 2, 3, 4, 5, 6, 7, 8, 9, 10, 11, 12, 13, 14, 15, 16, 17, 18, 19, 20, 21, 22, 23, 24, 25, 26, 27, 28, 29, 30, 31}\n",
      "Set Difference (Set2 - Set1): {1, 2, 4, 5, 7, 8, 10, 11, 13, 14, 16, 17, 19, 20, 22, 23, 25, 26, 28, 29, 31}\n"
     ]
    }
   ],
   "source": [
    "# Create set1: Multiples of 3 up to 31\n",
    "set1 = set(range(3, 32, 3))\n",
    "# Create set2: Multiples of upto a range of 31\n",
    "set2 = set(range(1, 32))\n",
    "\n",
    "\n",
    "\n",
    "# Calculate set difference (set2 - set1)\n",
    "result_set = set2 - set1\n",
    "\n",
    "# Print the result\n",
    "print(\"Set1:\", set1)\n",
    "print(\"Set2:\", set2)\n",
    "print(\"Set Difference (Set2 - Set1):\", result_set)"
   ]
  },
  {
   "cell_type": "code",
   "execution_count": null,
   "id": "b10dc469",
   "metadata": {
    "id": "b10dc469"
   },
   "outputs": [],
   "source": []
  },
  {
   "cell_type": "markdown",
   "id": "796c2e91",
   "metadata": {
    "id": "796c2e91"
   },
   "source": [
    "### 5. Calculate a function to generate random arrays with range of (1,100) and the naive functions to calculate Mean, Varience and Standard deviation for the array generated"
   ]
  },
  {
   "cell_type": "code",
   "execution_count": 10,
   "id": "9c7a2930",
   "metadata": {
    "id": "9c7a2930"
   },
   "outputs": [
    {
     "name": "stdout",
     "output_type": "stream",
     "text": [
      "Random Array: [22 20  2 99 57 94 68  5 11 13]\n",
      "Mean: 39.1\n",
      "Variance: 1242.4900000000002\n",
      "Standard Deviation: 35.248971616204635\n"
     ]
    }
   ],
   "source": [
    "import numpy as np\n",
    "\n",
    "def generate_random_array(size):\n",
    "    \"\"\"Generate a random array with values in the range (1, 100).\"\"\"\n",
    "    return np.random.randint(1, 101, size)\n",
    "\n",
    "def calculate_mean(arr):\n",
    "    \"\"\"Calculate the mean of an array.\"\"\"\n",
    "    return np.mean(arr)\n",
    "\n",
    "def calculate_variance(arr):\n",
    "    \"\"\"Calculate the variance of an array.\"\"\"\n",
    "    return np.var(arr)\n",
    "\n",
    "def calculate_std_deviation(arr):\n",
    "    \"\"\"Calculate the standard deviation of an array.\"\"\"\n",
    "    return np.std(arr)\n",
    "\n",
    "# Example: Generate a random array\n",
    "random_array = generate_random_array(10)\n",
    "\n",
    "# Calculate mean, variance, and standard deviation\n",
    "mean_value = calculate_mean(random_array)\n",
    "variance_value = calculate_variance(random_array)\n",
    "std_deviation_value = calculate_std_deviation(random_array)\n",
    "\n",
    "# Print the results\n",
    "print(\"Random Array:\", random_array)\n",
    "print(\"Mean:\", mean_value)\n",
    "print(\"Variance:\", variance_value)\n",
    "print(\"Standard Deviation:\", std_deviation_value)"
   ]
  },
  {
   "cell_type": "code",
   "execution_count": null,
   "id": "d9df5a6b",
   "metadata": {
    "id": "d9df5a6b"
   },
   "outputs": [],
   "source": []
  }
 ],
 "metadata": {
  "colab": {
   "provenance": []
  },
  "kernelspec": {
   "display_name": "Python 3 (ipykernel)",
   "language": "python",
   "name": "python3"
  },
  "language_info": {
   "codemirror_mode": {
    "name": "ipython",
    "version": 3
   },
   "file_extension": ".py",
   "mimetype": "text/x-python",
   "name": "python",
   "nbconvert_exporter": "python",
   "pygments_lexer": "ipython3",
   "version": "3.11.4"
  }
 },
 "nbformat": 4,
 "nbformat_minor": 5
}
